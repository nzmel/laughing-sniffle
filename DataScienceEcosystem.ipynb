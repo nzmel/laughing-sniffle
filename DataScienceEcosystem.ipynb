{
 "cells": [
  {
   "cell_type": "markdown",
   "id": "3ca26751-ba9b-4d25-b802-035b6c3f5a74",
   "metadata": {
    "jupyter": {
     "source_hidden": true
    }
   },
   "source": [
    "# Data Science Tools and Ecosystem"
   ]
  },
  {
   "cell_type": "markdown",
   "id": "ba331d08-d729-422b-8e09-bafb12847a35",
   "metadata": {},
   "source": [
    "In this notebook, Data Science Tools and Ecosystem are summarized."
   ]
  },
  {
   "cell_type": "markdown",
   "id": "7223c413-1a1f-4bfc-8e00-ce127f52c902",
   "metadata": {},
   "source": [
    "## Author\n",
    " Nicolas Zemel"
   ]
  },
  {
   "cell_type": "markdown",
   "id": "dba462f4-98e3-4648-bb79-ef2fb1e23e87",
   "metadata": {},
   "source": [
    "**Objectives**\n",
    "- List popular languages for Data Science\n",
    "- Learn to publish on GitHub\n",
    "- Learn to make a neat notebook"
   ]
  },
  {
   "cell_type": "markdown",
   "id": "37750838-ce37-465f-af83-e201dff674d5",
   "metadata": {},
   "source": [
    "# Some of the popular languages that Data Scientists use are:\n",
    "1) R\n",
    "2) Python\n",
    "3) SQL"
   ]
  },
  {
   "cell_type": "markdown",
   "id": "3679c86a-988c-4036-807a-590f4ded11d7",
   "metadata": {},
   "source": [
    "| Month    | Savings | XXXX  |\n",
    "\n",
    "| -------- | ------- |-------|   |"
   ]
  },
  {
   "cell_type": "markdown",
   "id": "827b86ba-9ef0-4c38-a8dc-26b9bab68855",
   "metadata": {},
   "source": [
    "| Data Science Tool            |\n",
    "| :---------------- |\n",
    "| pandas   | \n",
    "| dpylr        |\n",
    "| numpy |"
   ]
  },
  {
   "cell_type": "markdown",
   "id": "3dfa4c65-8f41-472f-8ac0-e4025a3ab854",
   "metadata": {},
   "source": [
    "### Below are a few examples of evaluating arithmetic expressions in Python"
   ]
  },
  {
   "cell_type": "markdown",
   "id": "58c55294-88fe-4a63-99bb-6a78c087d7ec",
   "metadata": {},
   "source": [
    "This a simple arithmetic expression to mutiply then add integers"
   ]
  },
  {
   "cell_type": "code",
   "execution_count": 5,
   "id": "f53e9141-1401-4a33-baf2-be819fc53269",
   "metadata": {},
   "outputs": [
    {
     "data": {
      "text/plain": [
       "17"
      ]
     },
     "execution_count": 5,
     "metadata": {},
     "output_type": "execute_result"
    }
   ],
   "source": [
    "(3*4)+5"
   ]
  },
  {
   "cell_type": "markdown",
   "id": "ea3950ad-d935-4c90-83c0-a07b9e6bc3af",
   "metadata": {},
   "source": [
    "This will convert 200 minutes to hours by diving by 60"
   ]
  },
  {
   "cell_type": "code",
   "execution_count": 6,
   "id": "b08c9cc8-520e-45c3-86cb-af50836e6d1b",
   "metadata": {},
   "outputs": [
    {
     "data": {
      "text/plain": [
       "3.3333333333333335"
      ]
     },
     "execution_count": 6,
     "metadata": {},
     "output_type": "execute_result"
    }
   ],
   "source": [
    "200/60"
   ]
  },
  {
   "cell_type": "code",
   "execution_count": null,
   "id": "216ef619-b2e0-47cb-bdd0-170954c1caa6",
   "metadata": {},
   "outputs": [],
   "source": []
  }
 ],
 "metadata": {
  "kernelspec": {
   "display_name": "Python 3 (ipykernel)",
   "language": "python",
   "name": "python3"
  },
  "language_info": {
   "codemirror_mode": {
    "name": "ipython",
    "version": 3
   },
   "file_extension": ".py",
   "mimetype": "text/x-python",
   "name": "python",
   "nbconvert_exporter": "python",
   "pygments_lexer": "ipython3",
   "version": "3.11.3"
  }
 },
 "nbformat": 4,
 "nbformat_minor": 5
}
